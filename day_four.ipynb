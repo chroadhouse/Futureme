{
 "cells": [
  {
   "cell_type": "code",
   "execution_count": 3,
   "metadata": {},
   "outputs": [
    {
     "name": "stdout",
     "output_type": "stream",
     "text": [
      "        Mean  Mode  Median  Maximum  Minumum  Standard Deviation\n",
      "0  29.699118  24.0    28.0     80.0     0.42           14.526497\n",
      "        Mean  Mode   Median   Maximum  Minumum  Standard Deviation\n",
      "0  32.204208  8.05  14.4542  512.3292      0.0           49.693429\n"
     ]
    },
    {
     "data": {
      "text/html": [
       "<div>\n",
       "<style scoped>\n",
       "    .dataframe tbody tr th:only-of-type {\n",
       "        vertical-align: middle;\n",
       "    }\n",
       "\n",
       "    .dataframe tbody tr th {\n",
       "        vertical-align: top;\n",
       "    }\n",
       "\n",
       "    .dataframe thead th {\n",
       "        text-align: right;\n",
       "    }\n",
       "</style>\n",
       "<table border=\"1\" class=\"dataframe\">\n",
       "  <thead>\n",
       "    <tr style=\"text-align: right;\">\n",
       "      <th></th>\n",
       "      <th>Mean</th>\n",
       "      <th>Mode</th>\n",
       "      <th>Median</th>\n",
       "      <th>Maximum</th>\n",
       "      <th>Minumum</th>\n",
       "      <th>Standard Deviation</th>\n",
       "    </tr>\n",
       "    <tr>\n",
       "      <th>Type</th>\n",
       "      <th></th>\n",
       "      <th></th>\n",
       "      <th></th>\n",
       "      <th></th>\n",
       "      <th></th>\n",
       "      <th></th>\n",
       "    </tr>\n",
       "  </thead>\n",
       "  <tbody>\n",
       "    <tr>\n",
       "      <th>Age</th>\n",
       "      <td>29.699118</td>\n",
       "      <td>24.00</td>\n",
       "      <td>28.0000</td>\n",
       "      <td>80.0000</td>\n",
       "      <td>0.42</td>\n",
       "      <td>14.526497</td>\n",
       "    </tr>\n",
       "    <tr>\n",
       "      <th>Ticket Fare</th>\n",
       "      <td>32.204208</td>\n",
       "      <td>8.05</td>\n",
       "      <td>14.4542</td>\n",
       "      <td>512.3292</td>\n",
       "      <td>0.00</td>\n",
       "      <td>49.693429</td>\n",
       "    </tr>\n",
       "  </tbody>\n",
       "</table>\n",
       "</div>"
      ],
      "text/plain": [
       "                  Mean   Mode   Median   Maximum  Minumum  Standard Deviation\n",
       "Type                                                                         \n",
       "Age          29.699118  24.00  28.0000   80.0000     0.42           14.526497\n",
       "Ticket Fare  32.204208   8.05  14.4542  512.3292     0.00           49.693429"
      ]
     },
     "execution_count": 3,
     "metadata": {},
     "output_type": "execute_result"
    }
   ],
   "source": [
    "import pandas as pd \n",
    "\n",
    "data = pd.read_csv('https://raw.githubusercontent.com/chroadhouse/Futureme/main/Data/titanic.csv')\n",
    "\n",
    "age_mean = data['Age'].mean()\n",
    "age_mode = data['Age'].mode()\n",
    "age_median = data['Age'].median()\n",
    "age_max = data['Age'].max()\n",
    "age_min = data['Age'].min()\n",
    "age_stand = data['Age'].std()\n",
    "\n",
    "#Here we create a dictionary with the key being the title of the column and the value being the variables we created above\n",
    "age_table = pd.DataFrame({\n",
    "    'Mean':age_mean,\n",
    "    'Mode':age_mode,\n",
    "    'Median':age_median,\n",
    "    'Maximum':age_max,\n",
    "    'Minumum':age_min,\n",
    "    'Standard Deviation':age_stand\n",
    "})\n",
    "\n",
    "print(age_table)\n",
    "\n",
    "fare_mean = data['Fare'].mean()\n",
    "fare_mode = data['Fare'].mode()\n",
    "fare_median = data['Fare'].median()\n",
    "fare_max = data['Fare'].max()\n",
    "fare_min = data['Fare'].min()\n",
    "fare_stand = data['Fare'].std()\n",
    "\n",
    "\n",
    "fare_table = pd.DataFrame({\n",
    "    'Mean':fare_mean,\n",
    "    'Mode':fare_mode,\n",
    "    'Median':fare_median,\n",
    "    'Maximum':fare_max,\n",
    "    'Minumum':fare_min,\n",
    "    'Standard Deviation':fare_stand\n",
    "})\n",
    "\n",
    "print(fare_table)\n",
    "\n",
    "#We can now combine these two tables together to make looking at the data more manabale \n",
    "\n",
    "#Short term fix for the mode variable that i cannot not see why it is doing this \n",
    "combined_table = pd.DataFrame({\n",
    "    'Type':['Age', 'Ticket Fare'],\n",
    "    'Mean':[age_mean, fare_mean],\n",
    "    'Mode':[age_mode[0], fare_mode[0]],\n",
    "    'Median':[age_median, fare_median],\n",
    "    'Maximum':[age_max, fare_max],\n",
    "    'Minumum':[age_min, fare_min],\n",
    "    'Standard Deviation':[age_stand, fare_stand]\n",
    "}).set_index('Type')\n",
    "\n",
    "#Coming into some sore of error here - error for the mode variable here \n",
    "combined_table"
   ]
  }
 ],
 "metadata": {
  "kernelspec": {
   "display_name": "Python 3.9.6 64-bit",
   "language": "python",
   "name": "python3"
  },
  "language_info": {
   "codemirror_mode": {
    "name": "ipython",
    "version": 3
   },
   "file_extension": ".py",
   "mimetype": "text/x-python",
   "name": "python",
   "nbconvert_exporter": "python",
   "pygments_lexer": "ipython3",
   "version": "3.9.6"
  },
  "orig_nbformat": 4,
  "vscode": {
   "interpreter": {
    "hash": "aee8b7b246df8f9039afb4144a1f6fd8d2ca17a180786b69acc140d282b71a49"
   }
  }
 },
 "nbformat": 4,
 "nbformat_minor": 2
}
