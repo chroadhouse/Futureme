{
 "cells": [
  {
   "cell_type": "markdown",
   "metadata": {},
   "source": [
    "# Day Two: Understanding and Visualising Data\n",
    "When you first start to analyse a dataset, you will not always know all the details about how it was collected and why it has been formatted in the way it is.\n",
    "\n",
    "Therefore, to understand these aspects, you must conduct some basic statistical analysis. You will also begin to visualise data, which is a useful way for you to get an idea of how to interpret it."
   ]
  },
  {
   "cell_type": "code",
   "execution_count": null,
   "metadata": {},
   "outputs": [],
   "source": [
    "#First we must start by importing the pandas library \n",
    "#Also must import the matplot lib library which allows us to be able to visualise the data \n",
    "import pandas as pd \n",
    "from matplotlib import pyplot as plt\n",
    "\n",
    "\n",
    "# Uncomment if you want to run off your machine - without internet connection \n",
    "#data = pd.read_csv('Data/titanic.csv')\n",
    "\n",
    "#This one can only be run with an internet connection \n",
    "data = pd.read_csv('https://raw.githubusercontent.com/chroadhouse/Futureme/main/Data/titanic.csv')\n",
    "\n",
    "#Run this code to make sure the data is read into the file \n",
    "data.head()"
   ]
  },
  {
   "cell_type": "markdown",
   "metadata": {},
   "source": [
    "# Creating our own table: Running metrics on data\n",
    "Even though you can run the .describe() function that returns a table with all the metric data you would want, it is still useful to be able to do this ourselves. \n",
    "\n",
    "Did you see above where we wrapped the link to our dataset in brackets? \n",
    "\n",
    "We then **assigned** it to a variable called *'data'* using **=**. This **stores** the dataset for us (have another look at yesterday's notebook if you need a recap on variables).\n",
    "\n",
    "We can then single out one column of this dataset by calling this variable and inserting the name of the column we want inside square brackets **[ ]**."
   ]
  },
  {
   "cell_type": "code",
   "execution_count": null,
   "metadata": {},
   "outputs": [],
   "source": [
    "#data['Age'] will only return the rows for the age column \n",
    "age_mean = data['Age'].mean()\n",
    "age_mode = data['Age'].mode()\n",
    "age_median = data['Age'].median()\n",
    "age_max = data['Age'].max()\n",
    "age_min = data['Age'].min()\n",
    "age_stand = data['Age'].std()\n",
    "\n",
    "#Here we create a dictionary - the *keys* are the titles of columns and the *values* are the variables we created above\n",
    "age_table = pd.DataFrame({\n",
    "    'Mean':age_mean,\n",
    "    'Mode':age_mode,\n",
    "    'Median':age_median,\n",
    "    'Maximum':age_max,\n",
    "    'Minumum':age_min,\n",
    "    'Standard Deviation':age_stand\n",
    "})\n",
    "\n",
    "age_table"
   ]
  },
  {
   "cell_type": "code",
   "execution_count": null,
   "metadata": {},
   "outputs": [],
   "source": [
    "#Can also do this with another quantitative column such as the fare \n",
    "fare_mean = data['Fare'].mean()\n",
    "fare_mode = data['Fare'].mode()\n",
    "fare_median = data['Fare'].median()\n",
    "fare_max = data['Fare'].max()\n",
    "fare_min = data['Fare'].min()\n",
    "fare_stand = data['Fare'].std()\n",
    "\n",
    "\n",
    "fare_table = pd.DataFrame({\n",
    "    'Mean':fare_mean,\n",
    "    'Mode':fare_mode,\n",
    "    'Median':fare_median,\n",
    "    'Maximum':fare_max,\n",
    "    'Minumum':fare_min,\n",
    "    'Standard Deviation':fare_stand\n",
    "})\n",
    "\n",
    "fare_table"
   ]
  },
  {
   "cell_type": "markdown",
   "metadata": {},
   "source": [
    "# Checking the Frequency of Categorical data\n",
    "Data is more than just numbers!\n",
    "\n",
    "Categorical data is a collection of information that is divided into groups (e.g. sex, age, education level) and it can also provide vital insight.\n",
    "\n",
    "One of the best things you can do when looking at categorical data is check the **frequency** of each value."
   ]
  },
  {
   "cell_type": "code",
   "execution_count": null,
   "metadata": {},
   "outputs": [],
   "source": [
    "#Value_count method returns the freqency of each category\n",
    "embark_data = data['Embarked'].value_counts()\n",
    "\n",
    "embark_data"
   ]
  },
  {
   "cell_type": "code",
   "execution_count": null,
   "metadata": {},
   "outputs": [],
   "source": [
    "#Here we replace the characters 'S', 'C' and 'Q' with the full names of each location, enclosed in quotes so they are 'strings'.\n",
    "#This will make the dataset much easier to read.\n",
    "data['Embarked']= data['Embarked'].replace({'S':'Southhampton', 'C':'Cherbourg', 'Q':'Queenstown'})\n",
    "\n",
    "#Here we store the count and percentage to show in a table\n",
    "c = data.Embarked.value_counts()\n",
    "p = data.Embarked.value_counts(normalize=True).mul(100).round(1).astype(str)\n",
    "value_count = pd.concat([c,p], axis=1, keys=['counts', '%'])\n",
    "\n",
    "value_count"
   ]
  },
  {
   "cell_type": "markdown",
   "metadata": {},
   "source": [
    "# Plotting Data \n",
    "Plotting data is one of the best ways to detect patterns and relationships.\n",
    "\n",
    "To plot data in Python, we use the **matplotlib** library, which makes it much easier! When importing the library it is common practice to give it then name of **plt**.\n",
    "\n",
    "To find out more, you can also read the documentation for this module: https://matplotlib.org/3.5.3/api/_as_gen/matplotlib.pyplot.html\n"
   ]
  },
  {
   "cell_type": "markdown",
   "metadata": {},
   "source": [
    "# Histograms\n",
    "You may notice that Histograms look quite similar to a bar chart. They represent data in ranges along a horizontal axis."
   ]
  },
  {
   "cell_type": "code",
   "execution_count": null,
   "metadata": {},
   "outputs": [],
   "source": [
    "#We create a histogram to show the age of passengers on the Titanic\n",
    "plt.hist(data['Age'])\n",
    "plt.xlabel('Age of passenger')\n",
    "plt.ylabel('Number of passengers')\n",
    "plt.title('Histogram of Passenger Age')\n",
    "plt.show()"
   ]
  },
  {
   "cell_type": "code",
   "execution_count": null,
   "metadata": {},
   "outputs": [],
   "source": [
    "#Here we create histograms showing the number of people that didn't survive and did survive based on the fare they paid.\n",
    "not_survived_fare = data['Fare'][data['Survived']=='Not Survive']\n",
    "survived_fare = data['Fare'][data['Survived']=='Survived']\n",
    "plt.figure(figsize=(12,6))\n",
    "plt.subplot(121)\n",
    "not_survived_fare.plot(kind='hist',title = 'People who didn\\'t survive')\n",
    "\n",
    "\n",
    "plt.subplot(122)\n",
    "survived_fare.plot(kind='hist', title= 'People who survived')\n"
   ]
  },
  {
   "cell_type": "markdown",
   "metadata": {},
   "source": [
    "# Pie Charts\n",
    "A pie chart is divided up into slices to illustrate the numerical value of each category. It is best used for showing percentages.\n"
   ]
  },
  {
   "cell_type": "code",
   "execution_count": null,
   "metadata": {},
   "outputs": [],
   "source": [
    "#The below pie chart shows the percentage of males and females on the ship.\n",
    "plt.figure(figsize=(10,10))\n",
    "data.Sex.value_counts().plot(kind='pie', title='Pie chart to show the number of males and females', autopct='%d%%')"
   ]
  },
  {
   "cell_type": "code",
   "execution_count": null,
   "metadata": {},
   "outputs": [],
   "source": [
    "#Creating two pie charts to show the people that did and didn't survive based on where they got on the ship.\n",
    "not_survived_class = data['Pclass'][data['Survived']=='Not Survive']\n",
    "survived_class = data['Pclass'][data['Survived']=='Survived']\n",
    "\n",
    "plt.figure(figsize=(12,6))\n",
    "plt.subplot(1,2,1)\n",
    "not_survived_class.value_counts().plot(kind='pie', title='people who didn\\'t survived', autopct='%d%%')\n",
    "\n",
    "plt.subplot(1,2,2)\n",
    "survived_class.value_counts().plot(kind='pie', title='people who survived', autopct='%d%%')"
   ]
  },
  {
   "cell_type": "markdown",
   "metadata": {},
   "source": [
    "# Bar Charts\n",
    "Bar Charts represent Categorical Data. They let us compare numerical values like percentages and integers."
   ]
  },
  {
   "cell_type": "code",
   "execution_count": null,
   "metadata": {},
   "outputs": [],
   "source": [
    "#The groupby method groups the data by what you pass in\n",
    "plt.figure(figsize=(10,10))\n",
    "data.groupby('Sex').Survived.value_counts().plot(kind='bar')\n",
    "plt.title('Bar Chart to show the number of males and females that survived and did not survive')\n",
    "plt.xlabel('Numer of males and females that survived')\n",
    "plt.ylabel('Number of passengers')"
   ]
  },
  {
   "cell_type": "markdown",
   "metadata": {},
   "source": [
    "## Bar Charts: Understanding our data\n",
    "Datasets are rarely perfect. More often than not, there will be all kinds of information that seemingly disappears, leaving you with empty spaces in your spreadsheets and tables.\n",
    "\n",
    "Therefore, you should always which values are **missing** when working with data.\n",
    "\n",
    "The term **Null** refers to a value that is missing or unknown, so a non-null count will exclude these troublesome bits.\n",
    "\n",
    "The table below shows us how much data we have for each column in the non-null count section.\n",
    "\n",
    "Can you see anything wrong with the 'Cabin' column?\n"
   ]
  },
  {
   "cell_type": "code",
   "execution_count": null,
   "metadata": {},
   "outputs": [],
   "source": [
    "#Shows us how much data we have for each column in the not-null count section\n",
    "data.info()"
   ]
  },
  {
   "cell_type": "markdown",
   "metadata": {},
   "source": [
    "It appears we have quite a bit of missing data from the 'Cabin' column.\n",
    "\n",
    "When working with numerical data in Python, we also have **NaN**, which stands for **Not a Number** and is often used to indicate when something is blank.\n",
    "\n",
    "**.isna()** is a method that will identify NaNs in a dataset by returning the value **True**.\n",
    "\n",
    "This method is useful to identify which data is missing."
   ]
  },
  {
   "cell_type": "code",
   "execution_count": null,
   "metadata": {},
   "outputs": [],
   "source": [
    "#The isna() method will return whether or not the data is NaN\n",
    "data.isna()"
   ]
  },
  {
   "cell_type": "code",
   "execution_count": null,
   "metadata": {},
   "outputs": [],
   "source": [
    "#By running the sum method on this data, it will give us the total of NaN's in the dataset\n",
    "data.isna().sum()"
   ]
  },
  {
   "cell_type": "code",
   "execution_count": null,
   "metadata": {},
   "outputs": [],
   "source": [
    "#The tilde ( ~ ) is a character that inverses the isna() method - meaning the number of values that are present will be shown\n",
    "fullData = ~data.isna()\n",
    "\n",
    "#Customizing the chart we are going to create\n",
    "plt.figure(figsize=(10,10))\n",
    "plt.xlabel('Columns')\n",
    "plt.ylabel('Number of data')\n",
    "plt.title('Bar chart to show the number of valid data in each column')\n",
    "\n",
    "#Here we actually create the barchart\n",
    "fullData.sum().plot(kind='bar')\n",
    "\n",
    "#This is bar chart shows all valid data - we can also see this using .info() but visualising this information can also be helpful."
   ]
  }
 ],
 "metadata": {
  "kernelspec": {
   "display_name": "Python 3.9.12",
   "language": "python",
   "name": "python3"
  },
  "language_info": {
   "codemirror_mode": {
    "name": "ipython",
    "version": 3
   },
   "file_extension": ".py",
   "mimetype": "text/x-python",
   "name": "python",
   "nbconvert_exporter": "python",
   "pygments_lexer": "ipython3",
   "version": "3.9.12"
  },
  "orig_nbformat": 4,
  "vscode": {
   "interpreter": {
    "hash": "0df3d53152e8e130235b46b9046afba8add0a5c5c7db06a775ee0d5f1d3271b7"
   }
  }
 },
 "nbformat": 4,
 "nbformat_minor": 2
}
