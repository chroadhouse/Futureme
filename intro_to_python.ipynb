{
 "cells": [
  {
   "cell_type": "markdown",
   "metadata": {},
   "source": [
    "# A notebook for the basics of python\n",
    "\n",
    "- Variable \n",
    "- list \n",
    "- data types \n",
    "- object? (classes, methods) - talk about the importation of packages here \n",
    "- if statements \n",
    "- Dictionary "
   ]
  },
  {
   "cell_type": "markdown",
   "metadata": {},
   "source": [
    "## Variable \n",
    "A variable is most basic thing in programming and is used in all programs. A variable stores a value that can be called and changed while the program is running. There are other data structures that will be shown later in the notebook"
   ]
  },
  {
   "cell_type": "code",
   "execution_count": 6,
   "metadata": {},
   "outputs": [
    {
     "name": "stdout",
     "output_type": "stream",
     "text": [
      "10\n"
     ]
    }
   ],
   "source": [
    "# This is a variable \n",
    "x = 10 \n",
    "\n",
    "print(x)"
   ]
  },
  {
   "cell_type": "markdown",
   "metadata": {},
   "source": [
    "## Data Types \n",
    "In nearly all programming languages there are different types of data with some of the main one being:\n",
    "- String \n",
    "- Integer\n",
    "- Character (this data type is not in python though - single characters are treated as a string)\n",
    "- Boolean \n",
    "- Float and Double (Decimal)\n",
    "\n",
    "Python is a non-strict language which means we do not have to state what the variable type will be like other langauges, instead it intuitively works out what the data type is from the data that you give it"
   ]
  },
  {
   "cell_type": "code",
   "execution_count": 7,
   "metadata": {},
   "outputs": [],
   "source": [
    "#Example storing a university students data\n",
    "#String \n",
    "name = \"James Taylor\"\n",
    "\n",
    "#Int \n",
    "age = 21\n",
    "\n",
    "#String\n",
    "gender = 'M'\n",
    "\n",
    "#Double/Float\n",
    "average_score = 0.8\n",
    "\n",
    "#Boolean\n",
    "placement_year = True "
   ]
  },
  {
   "cell_type": "markdown",
   "metadata": {},
   "source": [
    "You can check data types using the type() method, which can be useful when evaulating subsets of data"
   ]
  },
  {
   "cell_type": "code",
   "execution_count": 8,
   "metadata": {},
   "outputs": [
    {
     "data": {
      "text/plain": [
       "(str, int, str, float, bool)"
      ]
     },
     "execution_count": 8,
     "metadata": {},
     "output_type": "execute_result"
    }
   ],
   "source": [
    "type(name) , type(age), type(gender), type(average_score), type(placement_year)"
   ]
  },
  {
   "cell_type": "markdown",
   "metadata": {},
   "source": [
    "## Data Structures \n",
    "With already looking at variables there are some other key data structures that are useful when looking at data analysis, mainly looking at data structures that can hold mutiple pieces of data\n",
    "- Lists \n",
    "- Dictionaries  \n"
   ]
  },
  {
   "cell_type": "markdown",
   "metadata": {},
   "source": [
    "# List \n",
    "A list is a data structure that allows you to be able to store multiple values, such as varaibles in one list and then access the different indexs in the list. \n",
    "We tell python we want to use a list using the [] when adding data to the list."
   ]
  },
  {
   "cell_type": "code",
   "execution_count": 10,
   "metadata": {},
   "outputs": [],
   "source": [
    "#We declare a empty list \n",
    "list = []\n",
    "\n",
    "list = [1,2,3,4,5,6,7,8,9]"
   ]
  },
  {
   "cell_type": "markdown",
   "metadata": {},
   "source": [
    "When accessing a list we must give the posistion of the list, sometimes referred to as the index of the list. \n",
    "\n",
    "In programming we start the index of a list a 0. This is called zero based indexing. If you try and pass an index value to the list that is not there you will produces errors and the code may not run"
   ]
  },
  {
   "cell_type": "code",
   "execution_count": 13,
   "metadata": {},
   "outputs": [
    {
     "name": "stdout",
     "output_type": "stream",
     "text": [
      "1\n"
     ]
    }
   ],
   "source": [
    "#Access and store the first value of the list in a variable \n",
    "item_one = list[0]\n",
    "print(item_one)"
   ]
  },
  {
   "cell_type": "code",
   "execution_count": 14,
   "metadata": {},
   "outputs": [
    {
     "name": "stdout",
     "output_type": "stream",
     "text": [
      "[100, 2, 3, 4, 5, 6, 7, 8, 9]\n"
     ]
    }
   ],
   "source": [
    "#We can also change the values of the list \n",
    "list[0] = 100\n",
    "print(list)"
   ]
  },
  {
   "cell_type": "markdown",
   "metadata": {},
   "source": [
    "# Dictionaries \n",
    "Sometimes we want to be able to retrieve data without trying to find and remember the index of the list, this is where dictionaries come in. \n",
    "They take two values - the key : the value and we tell python we want to use a dict using the {}"
   ]
  },
  {
   "cell_type": "code",
   "execution_count": 19,
   "metadata": {},
   "outputs": [
    {
     "data": {
      "text/plain": [
       "{'name': 'James Taylor', 'age': 21, 'placement_year': True}"
      ]
     },
     "execution_count": 19,
     "metadata": {},
     "output_type": "execute_result"
    }
   ],
   "source": [
    "students = {\n",
    "    'name':'James Taylor',\n",
    "    'age':21,\n",
    "    \"placement_year\":True\n",
    "}\n",
    "\n",
    "students"
   ]
  },
  {
   "cell_type": "code",
   "execution_count": 18,
   "metadata": {},
   "outputs": [
    {
     "data": {
      "text/plain": [
       "{'name': 'John Taylor', 'age': [21, 24], 'placement_year': [True, False]}"
      ]
     },
     "execution_count": 18,
     "metadata": {},
     "output_type": "execute_result"
    }
   ],
   "source": [
    "#We can change the values linked to the key with this:\n",
    "students['name'] = 'John Taylor'\n",
    "\n",
    "students"
   ]
  },
  {
   "cell_type": "code",
   "execution_count": 20,
   "metadata": {},
   "outputs": [
    {
     "data": {
      "text/plain": [
       "{'name': ['James Taylor', 'Georgia Smith'],\n",
       " 'age': [21, 24],\n",
       " 'placement_year': [True, False]}"
      ]
     },
     "execution_count": 20,
     "metadata": {},
     "output_type": "execute_result"
    }
   ],
   "source": [
    "#We can also have a list stored in the values section\n",
    "students = {\n",
    "    'name':['James Taylor', 'Georgia Smith'],\n",
    "    'age':[21, 24],\n",
    "    \"placement_year\":[True, False]\n",
    "}\n",
    "\n",
    "students"
   ]
  },
  {
   "cell_type": "markdown",
   "metadata": {},
   "source": [
    "# Objects, Methods and importing\n",
    "One of the most useful things in python is being able to write lines of code that we can reuse - making programming quicker and more efficient. We wrap this code in something called a method (sometimes called procedures or functions). Even though for basic data analysis you won't have to write your own methods you are using built in methods. \n",
    "\n",
    "When putting data and values inside the (), we pass data to the method"
   ]
  },
  {
   "cell_type": "code",
   "execution_count": 23,
   "metadata": {},
   "outputs": [
    {
     "data": {
      "text/plain": [
       "int"
      ]
     },
     "execution_count": 23,
     "metadata": {},
     "output_type": "execute_result"
    }
   ],
   "source": [
    "#The type() is a method that was written by someone and comes with python for us to use \n",
    "x = 10\n",
    "\n",
    "#The X is passed into the values \n",
    "type(x)"
   ]
  }
 ],
 "metadata": {
  "kernelspec": {
   "display_name": "Python 3.9.6 64-bit",
   "language": "python",
   "name": "python3"
  },
  "language_info": {
   "codemirror_mode": {
    "name": "ipython",
    "version": 3
   },
   "file_extension": ".py",
   "mimetype": "text/x-python",
   "name": "python",
   "nbconvert_exporter": "python",
   "pygments_lexer": "ipython3",
   "version": "3.9.6"
  },
  "orig_nbformat": 4,
  "vscode": {
   "interpreter": {
    "hash": "aee8b7b246df8f9039afb4144a1f6fd8d2ca17a180786b69acc140d282b71a49"
   }
  }
 },
 "nbformat": 4,
 "nbformat_minor": 2
}
