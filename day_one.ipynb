{
 "cells": [
  {
   "cell_type": "markdown",
   "metadata": {},
   "source": [
    "# Day One: Intro to python and python in Data Analysis\n",
    "Python is an extremly useful and powerful programming langauge, which allowed it to become one of the most used and in demand langauges used by developers. One of the main reasons for this is the library packagaes that can be added onto python allowing for easy data analysis. As well as the langauge being easy to understand and easy to learn.\n",
    "\n",
    "## Basics of python \n",
    "Before we look at analysing data with python we first need to be introduced to some of the basics of python. These are only a small amount of things that python offer and has being tailored to this course\n",
    "- Variable \n",
    "- Data Types \n",
    "- Data structures (List and Dictionary)\n",
    "- Methods \n",
    "- Importing Modules"
   ]
  },
  {
   "cell_type": "markdown",
   "metadata": {},
   "source": [
    "## Variable \n",
    "A variable is most basic thing in programming and is used in all programs. A variable stores a value that can be called and changed while the program is running. There are other data structures that will be shown later in the notebook. When we set data to variables we use the =, you could read is as 'is'. \n",
    "e.g., \n",
    "- x = 10\n",
    "- x is 10"
   ]
  },
  {
   "cell_type": "code",
   "execution_count": null,
   "metadata": {},
   "outputs": [],
   "source": [
    "x = 10 \n",
    "print(x)"
   ]
  },
  {
   "cell_type": "markdown",
   "metadata": {},
   "source": [
    "## Data Types \n",
    "In nearly all programming languages there are different types of data with some of the main one being:\n",
    "- String \n",
    "- Integer\n",
    "- Character (this data type is not in python though - single characters are treated as a string)\n",
    "- Boolean \n",
    "- Float and Double (Decimal)\n",
    "\n",
    "Python is a non-strict type language which means we do not have to state what the variable type will be like other langauges (like java or c++), instead it intuitively works out what the data type is from the data that you give it. Even though python works out what the data type is, we should know what the type is since this is something "
   ]
  },
  {
   "cell_type": "code",
   "execution_count": 78,
   "metadata": {},
   "outputs": [],
   "source": [
    "#Example storing a university students data\n",
    "#String \n",
    "name = \"James Taylor\"\n",
    "\n",
    "#Int \n",
    "age = 21\n",
    "\n",
    "#Double/Float\n",
    "average_score = 0.8\n",
    "\n",
    "#Boolean\n",
    "placement_year = True "
   ]
  },
  {
   "cell_type": "markdown",
   "metadata": {},
   "source": [
    "You can check data types using the type() method, which can be useful when evaulating subsets of data"
   ]
  },
  {
   "cell_type": "code",
   "execution_count": null,
   "metadata": {},
   "outputs": [],
   "source": [
    "type(name) , type(age), type(average_score), type(placement_year)"
   ]
  },
  {
   "cell_type": "markdown",
   "metadata": {},
   "source": [
    "## Data Structures \n",
    "With already looking at variables there are some other key data structures that are useful when looking at data analysis, mainly looking at data structures that can hold mutiple pieces of data\n",
    "- Lists \n",
    "- Dictionaries  \n",
    "\n",
    "# List \n",
    "A list is a data structure that allows you to be able to store multiple values, such as varaibles in one list and then access the different indexs in the list. \n",
    "We tell python we want to use a list using the [] when adding data to the list."
   ]
  },
  {
   "cell_type": "code",
   "execution_count": 80,
   "metadata": {},
   "outputs": [],
   "source": [
    "#We declare a empty list \n",
    "list = []\n",
    "\n",
    "list = [1,2,3,4,5,6,7,8,9]"
   ]
  },
  {
   "cell_type": "markdown",
   "metadata": {},
   "source": [
    "When accessing a list we must give the posistion of the list, sometimes referred to as the index of the list. \n",
    "\n",
    "In programming we start the index of a list a 0. This is called zero based indexing. If you try and pass an index value to the list that is not there you will produces errors and the code may not run"
   ]
  },
  {
   "cell_type": "code",
   "execution_count": null,
   "metadata": {},
   "outputs": [],
   "source": [
    "#Access and store the first value of the list in a variable \n",
    "item_one = list[0]\n",
    "print(item_one)\n",
    "\n",
    "#We can also change the values of the list \n",
    "list[0] = 100\n",
    "print(list)\n"
   ]
  },
  {
   "cell_type": "markdown",
   "metadata": {},
   "source": [
    "# Dictionaries \n",
    "Sometimes we want to be able to retrieve data without trying to find and remember the index of the list, this is where dictionaries come in. \n",
    "They take two values - the key : the value and we tell python we want to use a dict using the {}"
   ]
  },
  {
   "cell_type": "code",
   "execution_count": null,
   "metadata": {},
   "outputs": [],
   "source": [
    "students = {\n",
    "    'name':'James Taylor',\n",
    "    'age':21,\n",
    "    \"placement_year\":True\n",
    "}\n",
    "\n",
    "students"
   ]
  },
  {
   "cell_type": "code",
   "execution_count": null,
   "metadata": {},
   "outputs": [],
   "source": [
    "#We can change the values linked to the key with this:\n",
    "students['name'] = 'John Taylor'\n",
    "\n",
    "students"
   ]
  },
  {
   "cell_type": "code",
   "execution_count": null,
   "metadata": {},
   "outputs": [],
   "source": [
    "#We can also have a list stored in the values section\n",
    "students = {\n",
    "    'name':['James Taylor', 'Georgia Smith'],\n",
    "    'age':[21, 24],\n",
    "    \"placement_year\":[True, False]\n",
    "}\n",
    "\n",
    "students"
   ]
  },
  {
   "cell_type": "markdown",
   "metadata": {},
   "source": [
    "## Methods and Importing Modules \n",
    "These are the final main things that you need to know about python to be able to take on the rest of this data analysis course. Even though these are very important aspects of python there are other things such as Classes and Objects that are just as important but will not be brought up in this notebook to make sure that it is not too time consuming and that you are not stuck learning all of python before getting to the data analysis. \n",
    "\n",
    "### Methods\n",
    "Think of this as a wrapper that you put around some code. You can then call this and run the code, allowing for repittion. This is a really useful thing that programmers use to make writing code easier and more efficient. You can write you own methods but python also comes with some premade methods that mean we don't have to do as much as the work. All the things we are going to use in the pandas library are methods that have already been made for us to use and we are simply calling them"
   ]
  },
  {
   "cell_type": "code",
   "execution_count": null,
   "metadata": {},
   "outputs": [],
   "source": [
    "#This is an example of a method that we could write ourselves\n",
    "def hello(name):\n",
    "    print(f'Hello + {name}')\n",
    "\n",
    "hello('Charlie')"
   ]
  },
  {
   "cell_type": "code",
   "execution_count": null,
   "metadata": {},
   "outputs": [],
   "source": [
    "#The print() command is a method that has being created by someone that we can use\n",
    "print('This is an example of a method made by someone else ')"
   ]
  },
  {
   "cell_type": "markdown",
   "metadata": {},
   "source": [
    "### Importing Modules \n",
    "Importing modules (libraries) is one of the most important features of a good programming language as they made the langauge more diverse to be able to take on different tasks. For exmample without importing the pandas library we would not be able to carry out as much data analysis. By importing them it simply means we can access the code inside the libraries. We would usually have to install these libraries onto our machines to be able to run them but anaconda3 and google collab come pre-installed with the libraries we will need "
   ]
  },
  {
   "cell_type": "code",
   "execution_count": null,
   "metadata": {},
   "outputs": [],
   "source": [
    "#An example of importing the Random module and giving it the name r \n",
    "import random as r \n",
    "\n",
    "#Using the randint method that prints a random number from a range given\n",
    "print(r.randint(0,10))"
   ]
  },
  {
   "cell_type": "markdown",
   "metadata": {},
   "source": [
    "# Basics of Data analysis: importing the data and useful methods\n",
    "For a lot of data manipulation and analysis the main modules that are needed are the pandas and numpy libraries. In this notebook the pandas library will be used to import the data and manipulte the data. Due to the size of the library it means that there are lots of different methods and functions that can be used, this notebook will only look at some. To look at more methods or get further information about functions we will look at in this document, please look at the documentation for the library: https://pandas.pydata.org/docs/user_guide/index.html"
   ]
  },
  {
   "cell_type": "code",
   "execution_count": 85,
   "metadata": {},
   "outputs": [],
   "source": [
    "#The module is imported and given the alias pd \n",
    "import pandas as pd \n",
    "\n",
    "#If you want to run all code locally then uncomment this line and make sure the data is in the correct place\n",
    "#data = pd.read_csv('Data/titanic.csv')\n",
    "\n",
    "#CSV file data is read into file and stored in the variable data\n",
    "#This is being pulled from an online github - so can only be run when connected to internet\n",
    "data = pd.read_csv('https://raw.githubusercontent.com/chroadhouse/Futureme/main/Data/titanic.csv')"
   ]
  },
  {
   "cell_type": "markdown",
   "metadata": {},
   "source": [
    "# Inital look at the data \n",
    "When importing the data it's good to do some inital analysis of the data to familiarse yourself with the data set \n",
    "\n",
    "* .head() - shows gives you a small amount of the data\n",
    "\n",
    "* .columns - gives you the names of the columns of the tabes \n",
    "\n",
    "* .describe() - displays data about the quantitative data such as the mean, max, count and minimum (but these values are not stored)\n",
    "\n",
    "* .info() - gives you a run down of the data set\n",
    "\n",
    "* .dtypes() - gives you the dfferent data types for the column names \n",
    "\n",
    "* .shape - gives you the shape of the database in terms of rows and columns "
   ]
  },
  {
   "cell_type": "code",
   "execution_count": null,
   "metadata": {},
   "outputs": [],
   "source": [
    "#This is usually run to ensure that the data set has imported correctly into the file\n",
    "data.head()"
   ]
  },
  {
   "cell_type": "code",
   "execution_count": null,
   "metadata": {},
   "outputs": [],
   "source": [
    "data.columns"
   ]
  },
  {
   "cell_type": "code",
   "execution_count": null,
   "metadata": {},
   "outputs": [],
   "source": [
    "data.info()"
   ]
  },
  {
   "cell_type": "code",
   "execution_count": null,
   "metadata": {},
   "outputs": [],
   "source": [
    "data.describe()"
   ]
  },
  {
   "cell_type": "code",
   "execution_count": null,
   "metadata": {},
   "outputs": [],
   "source": [
    "#If you do not understand some of these data types please look at the into_to_python file \n",
    "data.dtypes"
   ]
  },
  {
   "cell_type": "code",
   "execution_count": null,
   "metadata": {},
   "outputs": [],
   "source": [
    "data.shape"
   ]
  }
 ],
 "metadata": {
  "kernelspec": {
   "display_name": "Python 3.9.12",
   "language": "python",
   "name": "python3"
  },
  "language_info": {
   "codemirror_mode": {
    "name": "ipython",
    "version": 3
   },
   "file_extension": ".py",
   "mimetype": "text/x-python",
   "name": "python",
   "nbconvert_exporter": "python",
   "pygments_lexer": "ipython3",
   "version": "3.9.12"
  },
  "orig_nbformat": 4,
  "vscode": {
   "interpreter": {
    "hash": "0df3d53152e8e130235b46b9046afba8add0a5c5c7db06a775ee0d5f1d3271b7"
   }
  }
 },
 "nbformat": 4,
 "nbformat_minor": 2
}
