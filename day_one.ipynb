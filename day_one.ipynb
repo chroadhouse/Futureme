{
 "cells": [
  {
   "cell_type": "markdown",
   "metadata": {},
   "source": [
    "# Day One: Introduction to Python and Python for Data Analysis\n",
    "Python is an extremly useful and powerful programming langauge, which has allowed it to become one of the most used langauges by developers. One of the main reasons for this is that it is comparatively easy to understand and learn when compared to other languages. There are also several library packages that can be added, which are particularly useful for data analysis.\n",
    "\n",
    "## Basics of Python \n",
    "Before we look at analysing data with Python, we first need to be introduced to some of the basics. Remember - these are only a small number of the things Python has to offer!\n",
    "\n",
    "- Variable \n",
    "- Data Types \n",
    "- Data structures (List and Dictionary)\n",
    "- Methods \n",
    "- Importing Modules"
   ]
  },
  {
   "cell_type": "markdown",
   "metadata": {},
   "source": [
    "## Variable \n",
    "A variable is most basic thing in programming and is used in all programs. A variable stores a value that can be called and changed while the program is running. When we allocate data to variables we use =, you could read is as 'is'. \n",
    "e.g.\n",
    "- x = 10\n",
    "- x  **is** 10"
   ]
  },
  {
   "cell_type": "code",
   "execution_count": null,
   "metadata": {},
   "outputs": [],
   "source": [
    "x = 10 \n",
    "print(x)"
   ]
  },
  {
   "cell_type": "markdown",
   "metadata": {},
   "source": [
    "## Data Types \n",
    "In nearly all programming languages there are different types of data, such as:\n",
    "- String \n",
    "- Integer\n",
    "- Boolean \n",
    "- Float (Decimal)\n",
    "\n",
    "Python is a non-strict type language which means unlike other langauges (like java or c++) we do not have to state what the variable type will be. Instead it intuitively works out what the data type is from the data that you give it. Even though Python works this out, we still need to know it too!"
   ]
  },
  {
   "cell_type": "code",
   "execution_count": 2,
   "metadata": {},
   "outputs": [],
   "source": [
    "#Example storing a university students data\n",
    "#String \n",
    "name = \"James Taylor\"\n",
    "\n",
    "#Int \n",
    "age = 21\n",
    "\n",
    "#Float\n",
    "average_score = 0.8\n",
    "\n",
    "#Boolean\n",
    "placement_year = True "
   ]
  },
  {
   "cell_type": "markdown",
   "metadata": {},
   "source": [
    "You can check data types using the type() method, which can be useful when evaulating subsets of data"
   ]
  },
  {
   "cell_type": "code",
   "execution_count": null,
   "metadata": {},
   "outputs": [],
   "source": [
    "#Shows the types\n",
    "type(name) , type(age), type(average_score), type(placement_year)"
   ]
  },
  {
   "cell_type": "markdown",
   "metadata": {},
   "source": [
    "## Data Structures \n",
    "There are also some other key data structures that are useful when looking at data analysis, as they can hold mutiple pieces of data:\n",
    "- Lists \n",
    "- Dictionaries  \n",
    "\n",
    "# List \n",
    "A list is a data structure that allows you to store multiple values, such as variables, and then access each variable in the list. \n",
    "\n",
    "We tell Python we want to use a list using square brackets []."
   ]
  },
  {
   "cell_type": "code",
   "execution_count": 4,
   "metadata": {},
   "outputs": [],
   "source": [
    "#We declare a empty list \n",
    "list = []\n",
    "\n",
    "list = [1,2,3,4,5,6,7,8,9]"
   ]
  },
  {
   "cell_type": "markdown",
   "metadata": {},
   "source": [
    "When accessing something in a list, we must give its the position within the list (sometimes referred to as the **index**).\n",
    "\n",
    "In programming, we start the index of a list at 0. This is called **zero based indexing**. If you try and search for a value in the list that is not there, you will produce errors, and the code may not run.\n"
   ]
  },
  {
   "cell_type": "code",
   "execution_count": 19,
   "metadata": {},
   "outputs": [],
   "source": [
    "#Access and store the first value of the list in a variable \n",
    "item_one = list[0]\n",
    "\n",
    "#We can also change the values of the list \n",
    "list[0] = 100"
   ]
  },
  {
   "cell_type": "markdown",
   "metadata": {},
   "source": [
    "# Dictionaries \n",
    "Sometimes we may want to retrieve data without having to remember the index of the list - this is where dictionaries come in. \n",
    "\n",
    "They take two values - the **key** and the **value**. We tell python we want to use a dictionary by using curly brackets {}."
   ]
  },
  {
   "cell_type": "code",
   "execution_count": null,
   "metadata": {},
   "outputs": [],
   "source": [
    "students = {\n",
    "    'name':'James Taylor',\n",
    "    'age':21,\n",
    "    \"placement_year\":True\n",
    "}\n",
    "\n",
    "students"
   ]
  },
  {
   "cell_type": "code",
   "execution_count": null,
   "metadata": {},
   "outputs": [],
   "source": [
    "#We can change the values linked to the key with this:\n",
    "students['name'] = 'John Taylor'\n",
    "\n",
    "students"
   ]
  },
  {
   "cell_type": "code",
   "execution_count": null,
   "metadata": {},
   "outputs": [],
   "source": [
    "#We can also have a list stored in the values section\n",
    "students = {\n",
    "    'name':['James Taylor', 'Georgia Smith'],\n",
    "    'age':[21, 24],\n",
    "    \"placement_year\":[True, False]\n",
    "}\n",
    "\n",
    "students"
   ]
  },
  {
   "cell_type": "markdown",
   "metadata": {},
   "source": [
    "## Methods and Importing Modules \n",
    "These are the final things that you need to know about Python to be able to take on the rest of this data analysis course. \n",
    "\n",
    "### Methods\n",
    "Think of this as a wrapper that you put around some code. You can then call this and run the code, allowing for repetition. This is a really useful thing that programmers use to make writing code easier and more efficient. You can write you own methods, but Python also comes with some premade methods, which means we don't have to do as much work!\n",
    "\n",
    "All the things we are going to use in the **pandas** library are methods that have already been made for us to use - we are simply calling them."
   ]
  },
  {
   "cell_type": "code",
   "execution_count": null,
   "metadata": {},
   "outputs": [],
   "source": [
    "#This is an example of a method that we could write ourselves\n",
    "def hello(name):\n",
    "    print(f'Hello + {name}')\n",
    "\n",
    "hello('Charlie')"
   ]
  },
  {
   "cell_type": "code",
   "execution_count": null,
   "metadata": {},
   "outputs": [],
   "source": [
    "#The print() command is a method that has being created by someone that we can use\n",
    "print('This is an example of a method made by someone else ')"
   ]
  },
  {
   "cell_type": "markdown",
   "metadata": {},
   "source": [
    "### Importing Modules \n",
    "\n",
    "Importing modules (**libraries**) is one of the most important features of a good programming language, as they allow language to take on different tasks. \n",
    "\n",
    "For example, without importing the pandas library, we would not be able to carry out as much data analysis. Importing libraries simply means we can access the code. \n",
    "\n",
    "NOTE: We would usually have to install libraries onto our devices to be able to run them, but anaconda3 and google collab come pre-installed with the libraries we will need!"
   ]
  },
  {
   "cell_type": "code",
   "execution_count": null,
   "metadata": {},
   "outputs": [],
   "source": [
    "#An example of importing the Random module and giving it the name r \n",
    "import random as r \n",
    "\n",
    "#Using the randint method that prints a random number from a range given\n",
    "print(r.randint(0,10))"
   ]
  },
  {
   "cell_type": "markdown",
   "metadata": {},
   "source": [
    "# Basics of Data analysis: importing the data and useful methods\n",
    "For data manipulation and analysis, the main modules that are needed are the **pandas** and **numpy** libraries. In this notebook, the pandas library will be used to import and manipulte the data. Due to the size of the library, there are lots of different methods and functions that can be used. \n",
    "\n",
    "To find out more about this library, you can look at the documentation: https://pandas.pydata.org/docs/user_guide/index.html"
   ]
  },
  {
   "cell_type": "code",
   "execution_count": 12,
   "metadata": {},
   "outputs": [],
   "source": [
    "#The module is imported and given the alias -  pd \n",
    "import pandas as pd \n",
    "\n",
    "#If you want to run all code locally then uncomment this line and make sure the data is in the correct place\n",
    "data = pd.read_csv('Data/titanic.csv')\n",
    "\n",
    "#CSV file data is read into file and stored in the variable data\n",
    "#This is being pulled from an online github - so can only be run when connected to internet\n",
    "#data = pd.read_csv('https://raw.githubusercontent.com/chroadhouse/Futureme/main/Data/titanic.csv')"
   ]
  },
  {
   "cell_type": "markdown",
   "metadata": {},
   "source": [
    "# Inital look at the data \n",
    "When importing data, it's good to do some initial analysis to familiarise yourself: \n",
    "\n",
    "* **.head()** - shows a small amount of the data\n",
    "\n",
    "* **.columns** - shows the names of the columns in tables \n",
    "\n",
    "* **.describe()** - displays information about quantitative data such as the mean, max, count and minimum (but these values are not stored)\n",
    "\n",
    "* **.info()** - gives you a summary of the data set\n",
    "\n",
    "* **.dtypes()** - shows the different data types for the column names \n",
    "\n",
    "* **.shape** - gives you the shape of the database in terms of rows and columns "
   ]
  },
  {
   "cell_type": "code",
   "execution_count": null,
   "metadata": {},
   "outputs": [],
   "source": [
    "#This is usually run to ensure that the data set has imported correctly into the file\n",
    "data.head()"
   ]
  },
  {
   "cell_type": "code",
   "execution_count": null,
   "metadata": {},
   "outputs": [],
   "source": [
    "#Prints the columns of the dataset\n",
    "data.columns"
   ]
  },
  {
   "cell_type": "code",
   "execution_count": null,
   "metadata": {},
   "outputs": [],
   "source": [
    "#Gives you the shape of the dataset in (rows,columns)\n",
    "data.shape"
   ]
  },
  {
   "cell_type": "code",
   "execution_count": null,
   "metadata": {},
   "outputs": [],
   "source": [
    "#Gives back the info of each column\n",
    "data.info()"
   ]
  },
  {
   "cell_type": "code",
   "execution_count": null,
   "metadata": {},
   "outputs": [],
   "source": [
    "#Returns the stats for all numerical columns\n",
    "data.describe()"
   ]
  },
  {
   "cell_type": "code",
   "execution_count": null,
   "metadata": {},
   "outputs": [],
   "source": [
    "#Gives you the data types for each column \n",
    "data.dtypes"
   ]
  }
 ],
 "metadata": {
  "kernelspec": {
   "display_name": "Python 3.9.12",
   "language": "python",
   "name": "python3"
  },
  "language_info": {
   "codemirror_mode": {
    "name": "ipython",
    "version": 3
   },
   "file_extension": ".py",
   "mimetype": "text/x-python",
   "name": "python",
   "nbconvert_exporter": "python",
   "pygments_lexer": "ipython3",
   "version": "3.9.12"
  },
  "orig_nbformat": 4,
  "vscode": {
   "interpreter": {
    "hash": "0df3d53152e8e130235b46b9046afba8add0a5c5c7db06a775ee0d5f1d3271b7"
   }
  }
 },
 "nbformat": 4,
 "nbformat_minor": 2
}
