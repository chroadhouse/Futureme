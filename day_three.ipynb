{
  "cells": [
    {
      "cell_type": "markdown",
      "metadata": {
        "id": "5dzQROPRrOW7"
      },
      "source": [
        "# Day Three: Importing and Cleaning Data before Analysis \n",
        "It is rare in Data Analysis to encounter a dataset with no issues, such as missing or invalid data.\n",
        "\n",
        "\n",
        "Because of this, it is standard practice to 'clean' the data first.\n",
        "\n"
      ]
    },
    {
      "cell_type": "markdown",
      "metadata": {},
      "source": [
        "# The Sinking of the Titanic \n",
        "\n",
        "On April 15, 1912, during her maiden voyage, the widely considered “unsinkable” RMS Titanic sank after colliding with an iceberg. Unfortunately, there weren’t enough lifeboats for everyone onboard, resulting in the death of 1502 out of 2224 passengers and crew.\n",
        "\n",
        "While there was some element of luck involved in surviving, it seems some groups of people were more likely to survive than others.\n",
        "\n",
        "Typical Question: Build a predictive model that answers the question: “What sorts of people were more likely to survive?” using passenger data (ie name, age, gender, socio-economic class, etc)."
      ]
    },
    {
      "cell_type": "markdown",
      "metadata": {
        "id": "814XX2dE7taa"
      },
      "source": [
        "![titanic.jpeg](data:image/jpeg;base64,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)"
      ]
    },
    {
      "cell_type": "markdown",
      "metadata": {
        "id": "RofGT5bLrOXA"
      },
      "source": [
        "## Importing data \n",
        "Before we clean the data, it's time to look at how to import it. Without importing data into our file we would not be able to work with it in any way. The data we use can be stored in different file types, which change the way we import them.\n",
        "\n",
        "There are three common types that data is stored in:\n",
        "- csv - Comma Separated Values \n",
        "- txt - Text file \n",
        "- xlsx - Excel file \n",
        "\n",
        "When working with a txt file you must make sure that there is a character separating each column, such as a **,** - this means that it can be exported as a csv file.\n",
        "\n",
        "Using **Pandas** you can use **read_csv** and **read_excel** respectively for the file type. You must then enter where the data you want is from. This can either be a URL to the raw data (hosted or found on the web) or a file path to where you have saved it on your device.\n",
        "\n",
        "One common issue that occurs when working with csv files is that, even though the name suggests **commas** are the only thing that separate the columns - this is not always the case! It could be, for example, a semicolon ( ; ).\n",
        " \n",
        "If so, you just have to pass a second parameter into the read_csv file called **sep** and set this to the character that is separating the columns (don't worry if this sounds complicated, we have included the code below for you!\n",
        "\n",
        "data = pd.read_csv('https://raw.githubusercontent.com/chroadhouse/Futureme/main/Data/titanic.csv', sep=';')"
      ]
    },
    {
      "cell_type": "code",
      "execution_count": null,
      "metadata": {
        "id": "cghLpD6GrOXC"
      },
      "outputs": [],
      "source": [
        "#Here we import the libraries\n",
        "import pandas as pd \n",
        "from matplotlib import pyplot as plt \n",
        "import numpy as np\n",
        "\n",
        "#Here data is being imported using the url method (meaning the data is being pulled from the web)\n",
        "data = pd.read_csv('https://raw.githubusercontent.com/chroadhouse/Futureme/main/Data/titanic.csv')"
      ]
    },
    {
      "cell_type": "code",
      "execution_count": null,
      "metadata": {
        "id": "dgXdd0SxrOXG",
        "outputId": "a09cf46e-e029-44da-d6f4-8bf5b7135c81"
      },
      "outputs": [
        {
          "data": {
            "text/html": [
              "<div>\n",
              "<style scoped>\n",
              "    .dataframe tbody tr th:only-of-type {\n",
              "        vertical-align: middle;\n",
              "    }\n",
              "\n",
              "    .dataframe tbody tr th {\n",
              "        vertical-align: top;\n",
              "    }\n",
              "\n",
              "    .dataframe thead th {\n",
              "        text-align: right;\n",
              "    }\n",
              "</style>\n",
              "<table border=\"1\" class=\"dataframe\">\n",
              "  <thead>\n",
              "    <tr style=\"text-align: right;\">\n",
              "      <th></th>\n",
              "      <th>PassengerId</th>\n",
              "      <th>Survived</th>\n",
              "      <th>Pclass</th>\n",
              "      <th>Name</th>\n",
              "      <th>Sex</th>\n",
              "      <th>Age</th>\n",
              "      <th>SibSp</th>\n",
              "      <th>Parch</th>\n",
              "      <th>Ticket</th>\n",
              "      <th>Fare</th>\n",
              "      <th>Cabin</th>\n",
              "      <th>Embarked</th>\n",
              "    </tr>\n",
              "  </thead>\n",
              "  <tbody>\n",
              "    <tr>\n",
              "      <th>0</th>\n",
              "      <td>1</td>\n",
              "      <td>Not Survive</td>\n",
              "      <td>3</td>\n",
              "      <td>Braund, Mr. Owen Harris</td>\n",
              "      <td>male</td>\n",
              "      <td>22.0</td>\n",
              "      <td>1</td>\n",
              "      <td>0</td>\n",
              "      <td>A/5 21171</td>\n",
              "      <td>7.2500</td>\n",
              "      <td>NaN</td>\n",
              "      <td>S</td>\n",
              "    </tr>\n",
              "    <tr>\n",
              "      <th>1</th>\n",
              "      <td>2</td>\n",
              "      <td>Survived</td>\n",
              "      <td>1</td>\n",
              "      <td>Cumings, Mrs. John Bradley (Florence Briggs Th...</td>\n",
              "      <td>female</td>\n",
              "      <td>38.0</td>\n",
              "      <td>1</td>\n",
              "      <td>0</td>\n",
              "      <td>PC 17599</td>\n",
              "      <td>71.2833</td>\n",
              "      <td>C85</td>\n",
              "      <td>C</td>\n",
              "    </tr>\n",
              "    <tr>\n",
              "      <th>2</th>\n",
              "      <td>3</td>\n",
              "      <td>Survived</td>\n",
              "      <td>3</td>\n",
              "      <td>Heikkinen, Miss. Laina</td>\n",
              "      <td>female</td>\n",
              "      <td>26.0</td>\n",
              "      <td>0</td>\n",
              "      <td>0</td>\n",
              "      <td>STON/O2. 3101282</td>\n",
              "      <td>7.9250</td>\n",
              "      <td>NaN</td>\n",
              "      <td>S</td>\n",
              "    </tr>\n",
              "    <tr>\n",
              "      <th>3</th>\n",
              "      <td>4</td>\n",
              "      <td>Survived</td>\n",
              "      <td>1</td>\n",
              "      <td>Futrelle, Mrs. Jacques Heath (Lily May Peel)</td>\n",
              "      <td>female</td>\n",
              "      <td>35.0</td>\n",
              "      <td>1</td>\n",
              "      <td>0</td>\n",
              "      <td>113803</td>\n",
              "      <td>53.1000</td>\n",
              "      <td>C123</td>\n",
              "      <td>S</td>\n",
              "    </tr>\n",
              "    <tr>\n",
              "      <th>4</th>\n",
              "      <td>5</td>\n",
              "      <td>Not Survive</td>\n",
              "      <td>3</td>\n",
              "      <td>Allen, Mr. William Henry</td>\n",
              "      <td>male</td>\n",
              "      <td>35.0</td>\n",
              "      <td>0</td>\n",
              "      <td>0</td>\n",
              "      <td>373450</td>\n",
              "      <td>8.0500</td>\n",
              "      <td>NaN</td>\n",
              "      <td>S</td>\n",
              "    </tr>\n",
              "  </tbody>\n",
              "</table>\n",
              "</div>"
            ],
            "text/plain": [
              "   PassengerId     Survived  Pclass  \\\n",
              "0            1  Not Survive       3   \n",
              "1            2     Survived       1   \n",
              "2            3     Survived       3   \n",
              "3            4     Survived       1   \n",
              "4            5  Not Survive       3   \n",
              "\n",
              "                                                Name     Sex   Age  SibSp  \\\n",
              "0                            Braund, Mr. Owen Harris    male  22.0      1   \n",
              "1  Cumings, Mrs. John Bradley (Florence Briggs Th...  female  38.0      1   \n",
              "2                             Heikkinen, Miss. Laina  female  26.0      0   \n",
              "3       Futrelle, Mrs. Jacques Heath (Lily May Peel)  female  35.0      1   \n",
              "4                           Allen, Mr. William Henry    male  35.0      0   \n",
              "\n",
              "   Parch            Ticket     Fare Cabin Embarked  \n",
              "0      0         A/5 21171   7.2500   NaN        S  \n",
              "1      0          PC 17599  71.2833   C85        C  \n",
              "2      0  STON/O2. 3101282   7.9250   NaN        S  \n",
              "3      0            113803  53.1000  C123        S  \n",
              "4      0            373450   8.0500   NaN        S  "
            ]
          },
          "execution_count": 2,
          "metadata": {},
          "output_type": "execute_result"
        }
      ],
      "source": [
        "#Always run this when importing the data to make sure it has imported properly. \n",
        "data.head()"
      ]
    },
    {
      "cell_type": "markdown",
      "metadata": {
        "id": "fz9K6a1vrOXL"
      },
      "source": [
        "# Cleaning the data \n",
        "Our goal here is to ensure that any missing data is filled, and that any incorrect data is removed.​\n",
        "\n",
        "To find which data is missing, we can use **.info**, which will show us the null count for the columns.\n",
        "\n",
        "Take a look at the table below - do any seem like they are missing data?"
      ]
    },
    {
      "cell_type": "code",
      "execution_count": null,
      "metadata": {
        "id": "mV0Ikdl8rOXM",
        "outputId": "8861b7a3-5159-4d91-b03f-82a9ecf0204b"
      },
      "outputs": [
        {
          "name": "stdout",
          "output_type": "stream",
          "text": [
            "<class 'pandas.core.frame.DataFrame'>\n",
            "RangeIndex: 891 entries, 0 to 890\n",
            "Data columns (total 12 columns):\n",
            " #   Column       Non-Null Count  Dtype  \n",
            "---  ------       --------------  -----  \n",
            " 0   PassengerId  891 non-null    int64  \n",
            " 1   Survived     891 non-null    object \n",
            " 2   Pclass       891 non-null    int64  \n",
            " 3   Name         891 non-null    object \n",
            " 4   Sex          891 non-null    object \n",
            " 5   Age          714 non-null    float64\n",
            " 6   SibSp        891 non-null    int64  \n",
            " 7   Parch        891 non-null    int64  \n",
            " 8   Ticket       891 non-null    object \n",
            " 9   Fare         891 non-null    float64\n",
            " 10  Cabin        204 non-null    object \n",
            " 11  Embarked     889 non-null    object \n",
            "dtypes: float64(2), int64(4), object(6)\n",
            "memory usage: 83.7+ KB\n"
          ]
        }
      ],
      "source": [
        "data.info()"
      ]
    },
    {
      "cell_type": "code",
      "execution_count": null,
      "metadata": {
        "id": "2bgIBFuerOXO",
        "outputId": "313405ef-5283-45ca-f0d1-4147fc34c1d7"
      },
      "outputs": [
        {
          "data": {
            "text/plain": [
              "<AxesSubplot:>"
            ]
          },
          "execution_count": 4,
          "metadata": {},
          "output_type": "execute_result"
        },
        {
          "data": {
            "image/png": "[encoded data removed]",
            "text/plain": [
              "<Figure size 720x720 with 1 Axes>"
            ]
          },
          "metadata": {
            "needs_background": "light"
          },
          "output_type": "display_data"
        }
      ],
      "source": [
        "#We can also show this data in graph form\n",
        "data.isna().sum()\n",
        "\n",
        "#This code shows us graphically how many null values are in our dataset \n",
        "fullData = ~data.isna()\n",
        "plt.figure(figsize=(10,10))\n",
        "fullData.sum().plot(kind='bar')"
      ]
    },
    {
      "cell_type": "code",
      "execution_count": null,
      "metadata": {
        "id": "i_sPOiexrOXQ",
        "outputId": "e379c56c-e116-419a-aa1c-c1a5d8d65235"
      },
      "outputs": [
        {
          "data": {
            "text/html": [
              "<div>\n",
              "<style scoped>\n",
              "    .dataframe tbody tr th:only-of-type {\n",
              "        vertical-align: middle;\n",
              "    }\n",
              "\n",
              "    .dataframe tbody tr th {\n",
              "        vertical-align: top;\n",
              "    }\n",
              "\n",
              "    .dataframe thead th {\n",
              "        text-align: right;\n",
              "    }\n",
              "</style>\n",
              "<table border=\"1\" class=\"dataframe\">\n",
              "  <thead>\n",
              "    <tr style=\"text-align: right;\">\n",
              "      <th></th>\n",
              "      <th>PassengerId</th>\n",
              "      <th>Survived</th>\n",
              "      <th>Pclass</th>\n",
              "      <th>Name</th>\n",
              "      <th>Sex</th>\n",
              "      <th>Age</th>\n",
              "      <th>SibSp</th>\n",
              "      <th>Parch</th>\n",
              "      <th>Ticket</th>\n",
              "      <th>Fare</th>\n",
              "      <th>Embarked</th>\n",
              "    </tr>\n",
              "  </thead>\n",
              "  <tbody>\n",
              "    <tr>\n",
              "      <th>0</th>\n",
              "      <td>1</td>\n",
              "      <td>Not Survive</td>\n",
              "      <td>3</td>\n",
              "      <td>Braund, Mr. Owen Harris</td>\n",
              "      <td>male</td>\n",
              "      <td>22.0</td>\n",
              "      <td>1</td>\n",
              "      <td>0</td>\n",
              "      <td>A/5 21171</td>\n",
              "      <td>7.2500</td>\n",
              "      <td>S</td>\n",
              "    </tr>\n",
              "    <tr>\n",
              "      <th>1</th>\n",
              "      <td>2</td>\n",
              "      <td>Survived</td>\n",
              "      <td>1</td>\n",
              "      <td>Cumings, Mrs. John Bradley (Florence Briggs Th...</td>\n",
              "      <td>female</td>\n",
              "      <td>38.0</td>\n",
              "      <td>1</td>\n",
              "      <td>0</td>\n",
              "      <td>PC 17599</td>\n",
              "      <td>71.2833</td>\n",
              "      <td>C</td>\n",
              "    </tr>\n",
              "    <tr>\n",
              "      <th>2</th>\n",
              "      <td>3</td>\n",
              "      <td>Survived</td>\n",
              "      <td>3</td>\n",
              "      <td>Heikkinen, Miss. Laina</td>\n",
              "      <td>female</td>\n",
              "      <td>26.0</td>\n",
              "      <td>0</td>\n",
              "      <td>0</td>\n",
              "      <td>STON/O2. 3101282</td>\n",
              "      <td>7.9250</td>\n",
              "      <td>S</td>\n",
              "    </tr>\n",
              "    <tr>\n",
              "      <th>3</th>\n",
              "      <td>4</td>\n",
              "      <td>Survived</td>\n",
              "      <td>1</td>\n",
              "      <td>Futrelle, Mrs. Jacques Heath (Lily May Peel)</td>\n",
              "      <td>female</td>\n",
              "      <td>35.0</td>\n",
              "      <td>1</td>\n",
              "      <td>0</td>\n",
              "      <td>113803</td>\n",
              "      <td>53.1000</td>\n",
              "      <td>S</td>\n",
              "    </tr>\n",
              "    <tr>\n",
              "      <th>4</th>\n",
              "      <td>5</td>\n",
              "      <td>Not Survive</td>\n",
              "      <td>3</td>\n",
              "      <td>Allen, Mr. William Henry</td>\n",
              "      <td>male</td>\n",
              "      <td>35.0</td>\n",
              "      <td>0</td>\n",
              "      <td>0</td>\n",
              "      <td>373450</td>\n",
              "      <td>8.0500</td>\n",
              "      <td>S</td>\n",
              "    </tr>\n",
              "  </tbody>\n",
              "</table>\n",
              "</div>"
            ],
            "text/plain": [
              "   PassengerId     Survived  Pclass  \\\n",
              "0            1  Not Survive       3   \n",
              "1            2     Survived       1   \n",
              "2            3     Survived       3   \n",
              "3            4     Survived       1   \n",
              "4            5  Not Survive       3   \n",
              "\n",
              "                                                Name     Sex   Age  SibSp  \\\n",
              "0                            Braund, Mr. Owen Harris    male  22.0      1   \n",
              "1  Cumings, Mrs. John Bradley (Florence Briggs Th...  female  38.0      1   \n",
              "2                             Heikkinen, Miss. Laina  female  26.0      0   \n",
              "3       Futrelle, Mrs. Jacques Heath (Lily May Peel)  female  35.0      1   \n",
              "4                           Allen, Mr. William Henry    male  35.0      0   \n",
              "\n",
              "   Parch            Ticket     Fare Embarked  \n",
              "0      0         A/5 21171   7.2500        S  \n",
              "1      0          PC 17599  71.2833        C  \n",
              "2      0  STON/O2. 3101282   7.9250        S  \n",
              "3      0            113803  53.1000        S  \n",
              "4      0            373450   8.0500        S  "
            ]
          },
          "execution_count": 5,
          "metadata": {},
          "output_type": "execute_result"
        }
      ],
      "source": [
        "#First start addressing the data by dropping the the cabin column \n",
        "#We want to get rid of this data since there is more than half missing already!\n",
        "\n",
        "#Here we name the column we need removing using the .drop method\n",
        "new_data = data.drop(columns='Cabin')\n",
        "\n",
        "new_data.head()\n",
        "#Cabin data is now removed"
      ]
    },
    {
      "cell_type": "code",
      "execution_count": null,
      "metadata": {
        "id": "GtkHTvRLrOXT",
        "outputId": "9f7cef11-39aa-40e4-9cd1-7a4324e14066"
      },
      "outputs": [
        {
          "data": {
            "text/plain": [
              "29.69911764705882"
            ]
          },
          "execution_count": 6,
          "metadata": {},
          "output_type": "execute_result"
        }
      ],
      "source": [
        "#Now we look at filling in the missing data for the age column\n",
        "#A common way to fill in numerical data is to fill it in with the mean of the current data\n",
        "\n",
        "#Mean of age stored in this variable\n",
        "mean_age = new_data['Age'].mean()\n",
        "mean_age"
      ]
    },
    {
      "cell_type": "code",
      "execution_count": null,
      "metadata": {
        "id": "5BdR9aMzrOXY"
      },
      "outputs": [],
      "source": [
        "#There are two main ways to then replace this data \n",
        "\n",
        "#This targets the NaN and replaces it with the mean age - this method uses the numpy library\n",
        "new_data['Age'] = new_data['Age'].replace(np.nan, mean_age)\n",
        "\n",
        "#This method is specific for filling NaNs \n",
        "new_data['Age'] = new_data['Age'].fillna(mean_age)"
      ]
    },
    {
      "cell_type": "code",
      "execution_count": null,
      "metadata": {
        "id": "UWB2R1NwrOXa",
        "outputId": "8b6acf56-7ac0-4355-9980-9de87619f9bd"
      },
      "outputs": [
        {
          "name": "stdout",
          "output_type": "stream",
          "text": [
            "<class 'pandas.core.frame.DataFrame'>\n",
            "RangeIndex: 891 entries, 0 to 890\n",
            "Data columns (total 11 columns):\n",
            " #   Column       Non-Null Count  Dtype  \n",
            "---  ------       --------------  -----  \n",
            " 0   PassengerId  891 non-null    int64  \n",
            " 1   Survived     891 non-null    object \n",
            " 2   Pclass       891 non-null    int64  \n",
            " 3   Name         891 non-null    object \n",
            " 4   Sex          891 non-null    object \n",
            " 5   Age          891 non-null    float64\n",
            " 6   SibSp        891 non-null    int64  \n",
            " 7   Parch        891 non-null    int64  \n",
            " 8   Ticket       891 non-null    object \n",
            " 9   Fare         891 non-null    float64\n",
            " 10  Embarked     889 non-null    object \n",
            "dtypes: float64(2), int64(4), object(5)\n",
            "memory usage: 76.7+ KB\n"
          ]
        }
      ],
      "source": [
        "#Here we test if filling the data worked \n",
        "new_data.info()"
      ]
    },
    {
      "cell_type": "code",
      "execution_count": null,
      "metadata": {
        "id": "iCdS1H8-rOXb",
        "outputId": "bb1b69e7-0497-45f9-dfa0-238459e4fc40"
      },
      "outputs": [
        {
          "data": {
            "text/plain": [
              "S    644\n",
              "C    168\n",
              "Q     77\n",
              "Name: Embarked, dtype: int64"
            ]
          },
          "execution_count": 9,
          "metadata": {},
          "output_type": "execute_result"
        }
      ],
      "source": [
        "#Now we need to fill in the missing values for the Embarked column - we want to replace with the most common category \n",
        "new_data['Embarked'].value_counts()"
      ]
    },
    {
      "cell_type": "code",
      "execution_count": null,
      "metadata": {
        "id": "rks_vCLSrOXc"
      },
      "outputs": [],
      "source": [
        "#So we want to replace any missing values with S \n",
        "new_data['Embarked'] = new_data['Embarked'].fillna('S')"
      ]
    },
    {
      "cell_type": "code",
      "execution_count": null,
      "metadata": {
        "id": "1RfKj_i8rOXc",
        "outputId": "85614ab8-bc6a-46a4-cb43-edee251b746c"
      },
      "outputs": [
        {
          "name": "stdout",
          "output_type": "stream",
          "text": [
            "<class 'pandas.core.frame.DataFrame'>\n",
            "RangeIndex: 891 entries, 0 to 890\n",
            "Data columns (total 11 columns):\n",
            " #   Column       Non-Null Count  Dtype  \n",
            "---  ------       --------------  -----  \n",
            " 0   PassengerId  891 non-null    int64  \n",
            " 1   Survived     891 non-null    object \n",
            " 2   Pclass       891 non-null    int64  \n",
            " 3   Name         891 non-null    object \n",
            " 4   Sex          891 non-null    object \n",
            " 5   Age          891 non-null    float64\n",
            " 6   SibSp        891 non-null    int64  \n",
            " 7   Parch        891 non-null    int64  \n",
            " 8   Ticket       891 non-null    object \n",
            " 9   Fare         891 non-null    float64\n",
            " 10  Embarked     891 non-null    object \n",
            "dtypes: float64(2), int64(4), object(5)\n",
            "memory usage: 76.7+ KB\n"
          ]
        }
      ],
      "source": [
        "new_data.info()"
      ]
    },
    {
      "cell_type": "markdown",
      "metadata": {
        "id": "CxiMs2gWrOXd"
      },
      "source": [
        "# Converting Continuous data to Categorical data\n",
        "Sometimes we want to change the way we represent our data. An example of this is changing the data from continuous to categorical. In the example below, the Age column will be changed from the numbers into categories of young, adult and elder.\n"
      ]
    },
    {
      "cell_type": "code",
      "execution_count": null,
      "metadata": {
        "id": "d7ThL2YkrOXe"
      },
      "outputs": [],
      "source": [
        "#We must change the Age from a float to an int to be able to convert the data. Simply goes from a decimal to a whole number\n",
        "#Uses Numpy to get the int64 type which we pass into pandas to be able to convert\n",
        "new_data['Age'] = new_data['Age'].astype(np.int64)"
      ]
    },
    {
      "cell_type": "code",
      "execution_count": null,
      "metadata": {
        "id": "QLapBup5rOXe",
        "outputId": "53d9e890-a27e-49bc-91fe-f91d69b7fab1"
      },
      "outputs": [
        {
          "name": "stdout",
          "output_type": "stream",
          "text": [
            "<class 'pandas.core.frame.DataFrame'>\n",
            "RangeIndex: 891 entries, 0 to 890\n",
            "Data columns (total 11 columns):\n",
            " #   Column       Non-Null Count  Dtype  \n",
            "---  ------       --------------  -----  \n",
            " 0   PassengerId  891 non-null    int64  \n",
            " 1   Survived     891 non-null    object \n",
            " 2   Pclass       891 non-null    int64  \n",
            " 3   Name         891 non-null    object \n",
            " 4   Sex          891 non-null    object \n",
            " 5   Age          891 non-null    int64  \n",
            " 6   SibSp        891 non-null    int64  \n",
            " 7   Parch        891 non-null    int64  \n",
            " 8   Ticket       891 non-null    object \n",
            " 9   Fare         891 non-null    float64\n",
            " 10  Embarked     891 non-null    object \n",
            "dtypes: float64(1), int64(5), object(5)\n",
            "memory usage: 76.7+ KB\n"
          ]
        }
      ],
      "source": [
        "new_data.info()"
      ]
    },
    {
      "cell_type": "code",
      "execution_count": null,
      "metadata": {
        "id": "RI1qsnZ9rOXf"
      },
      "outputs": [],
      "source": [
        "#Changes Age from an integer to three different categories of child, adult and elder\n",
        "new_data['Age'] = pd.cut(new_data['Age'],bins=[0,17,65,99],labels=['Child','Adult','Elder'])"
      ]
    },
    {
      "cell_type": "code",
      "execution_count": null,
      "metadata": {
        "id": "Hn1nAMDnrOXf",
        "outputId": "a33892e4-7d36-4ad4-87d1-9ec1e907d378"
      },
      "outputs": [
        {
          "data": {
            "text/html": [
              "<div>\n",
              "<style scoped>\n",
              "    .dataframe tbody tr th:only-of-type {\n",
              "        vertical-align: middle;\n",
              "    }\n",
              "\n",
              "    .dataframe tbody tr th {\n",
              "        vertical-align: top;\n",
              "    }\n",
              "\n",
              "    .dataframe thead th {\n",
              "        text-align: right;\n",
              "    }\n",
              "</style>\n",
              "<table border=\"1\" class=\"dataframe\">\n",
              "  <thead>\n",
              "    <tr style=\"text-align: right;\">\n",
              "      <th></th>\n",
              "      <th>PassengerId</th>\n",
              "      <th>Survived</th>\n",
              "      <th>Pclass</th>\n",
              "      <th>Name</th>\n",
              "      <th>Sex</th>\n",
              "      <th>Age</th>\n",
              "      <th>SibSp</th>\n",
              "      <th>Parch</th>\n",
              "      <th>Ticket</th>\n",
              "      <th>Fare</th>\n",
              "      <th>Embarked</th>\n",
              "    </tr>\n",
              "  </thead>\n",
              "  <tbody>\n",
              "    <tr>\n",
              "      <th>0</th>\n",
              "      <td>1</td>\n",
              "      <td>Not Survive</td>\n",
              "      <td>3</td>\n",
              "      <td>Braund, Mr. Owen Harris</td>\n",
              "      <td>male</td>\n",
              "      <td>Adult</td>\n",
              "      <td>1</td>\n",
              "      <td>0</td>\n",
              "      <td>A/5 21171</td>\n",
              "      <td>7.2500</td>\n",
              "      <td>S</td>\n",
              "    </tr>\n",
              "    <tr>\n",
              "      <th>1</th>\n",
              "      <td>2</td>\n",
              "      <td>Survived</td>\n",
              "      <td>1</td>\n",
              "      <td>Cumings, Mrs. John Bradley (Florence Briggs Th...</td>\n",
              "      <td>female</td>\n",
              "      <td>Adult</td>\n",
              "      <td>1</td>\n",
              "      <td>0</td>\n",
              "      <td>PC 17599</td>\n",
              "      <td>71.2833</td>\n",
              "      <td>C</td>\n",
              "    </tr>\n",
              "    <tr>\n",
              "      <th>2</th>\n",
              "      <td>3</td>\n",
              "      <td>Survived</td>\n",
              "      <td>3</td>\n",
              "      <td>Heikkinen, Miss. Laina</td>\n",
              "      <td>female</td>\n",
              "      <td>Adult</td>\n",
              "      <td>0</td>\n",
              "      <td>0</td>\n",
              "      <td>STON/O2. 3101282</td>\n",
              "      <td>7.9250</td>\n",
              "      <td>S</td>\n",
              "    </tr>\n",
              "    <tr>\n",
              "      <th>3</th>\n",
              "      <td>4</td>\n",
              "      <td>Survived</td>\n",
              "      <td>1</td>\n",
              "      <td>Futrelle, Mrs. Jacques Heath (Lily May Peel)</td>\n",
              "      <td>female</td>\n",
              "      <td>Adult</td>\n",
              "      <td>1</td>\n",
              "      <td>0</td>\n",
              "      <td>113803</td>\n",
              "      <td>53.1000</td>\n",
              "      <td>S</td>\n",
              "    </tr>\n",
              "    <tr>\n",
              "      <th>4</th>\n",
              "      <td>5</td>\n",
              "      <td>Not Survive</td>\n",
              "      <td>3</td>\n",
              "      <td>Allen, Mr. William Henry</td>\n",
              "      <td>male</td>\n",
              "      <td>Adult</td>\n",
              "      <td>0</td>\n",
              "      <td>0</td>\n",
              "      <td>373450</td>\n",
              "      <td>8.0500</td>\n",
              "      <td>S</td>\n",
              "    </tr>\n",
              "  </tbody>\n",
              "</table>\n",
              "</div>"
            ],
            "text/plain": [
              "   PassengerId     Survived  Pclass  \\\n",
              "0            1  Not Survive       3   \n",
              "1            2     Survived       1   \n",
              "2            3     Survived       3   \n",
              "3            4     Survived       1   \n",
              "4            5  Not Survive       3   \n",
              "\n",
              "                                                Name     Sex    Age  SibSp  \\\n",
              "0                            Braund, Mr. Owen Harris    male  Adult      1   \n",
              "1  Cumings, Mrs. John Bradley (Florence Briggs Th...  female  Adult      1   \n",
              "2                             Heikkinen, Miss. Laina  female  Adult      0   \n",
              "3       Futrelle, Mrs. Jacques Heath (Lily May Peel)  female  Adult      1   \n",
              "4                           Allen, Mr. William Henry    male  Adult      0   \n",
              "\n",
              "   Parch            Ticket     Fare Embarked  \n",
              "0      0         A/5 21171   7.2500        S  \n",
              "1      0          PC 17599  71.2833        C  \n",
              "2      0  STON/O2. 3101282   7.9250        S  \n",
              "3      0            113803  53.1000        S  \n",
              "4      0            373450   8.0500        S  "
            ]
          },
          "execution_count": 15,
          "metadata": {},
          "output_type": "execute_result"
        }
      ],
      "source": [
        "new_data.head()"
      ]
    },
    {
      "cell_type": "code",
      "execution_count": null,
      "metadata": {
        "id": "z6-gDJncrOXg",
        "outputId": "ef0e7fba-e71b-4637-e761-25d39b3db083"
      },
      "outputs": [
        {
          "data": {
            "text/plain": [
              "Adult    770\n",
              "Child    106\n",
              "Elder      8\n",
              "Name: Age, dtype: int64"
            ]
          },
          "execution_count": 16,
          "metadata": {},
          "output_type": "execute_result"
        }
      ],
      "source": [
        "# We can see the frequency of all three\n",
        "new_data['Age'].value_counts()"
      ]
    },
    {
      "cell_type": "markdown",
      "metadata": {
        "id": "w--hcL1rrOXh"
      },
      "source": [
        "# Furthering your Data Analysis Journey\n",
        "If you are enjoying this course so far why not think about learning more, whilst also earning some more RISE points too? \n",
        "\n",
        "You can sign up for Python for Scientific Computing and TensorFlow for Artificial Intelligence with Stephen Lynch: https://rise.mmu.ac.uk/activity/python-for-scientific-computing-and-tensorflow-for-artificial-intelligence-3/\n",
        "\n",
        "Or you could also preorder Stephens's book, which is centered around Python for Artificial Intelligence and Scientific Computing: https://www.routledge.com/Python-for-Scientific-Computing-and-Artificial-Intelligence/Lynch/p/book/9781032258713#"
      ]
    }
  ],
  "metadata": {
    "colab": {
      "provenance": []
    },
    "kernelspec": {
      "display_name": "Python 3.9.12",
      "language": "python",
      "name": "python3"
    },
    "language_info": {
      "codemirror_mode": {
        "name": "ipython",
        "version": 3
      },
      "file_extension": ".py",
      "mimetype": "text/x-python",
      "name": "python",
      "nbconvert_exporter": "python",
      "pygments_lexer": "ipython3",
      "version": "3.9.12"
    },
    "orig_nbformat": 4,
    "vscode": {
      "interpreter": {
        "hash": "0df3d53152e8e130235b46b9046afba8add0a5c5c7db06a775ee0d5f1d3271b7"
      }
    }
  },
  "nbformat": 4,
  "nbformat_minor": 0
}
